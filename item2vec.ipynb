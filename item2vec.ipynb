{
 "cells": [
  {
   "cell_type": "code",
   "execution_count": 8,
   "metadata": {},
   "outputs": [],
   "source": [
    "import pandas as pd\n",
    "import numpy as np"
   ]
  },
  {
   "cell_type": "code",
   "execution_count": 11,
   "metadata": {},
   "outputs": [
    {
     "data": {
      "text/html": [
       "<div>\n",
       "<style scoped>\n",
       "    .dataframe tbody tr th:only-of-type {\n",
       "        vertical-align: middle;\n",
       "    }\n",
       "\n",
       "    .dataframe tbody tr th {\n",
       "        vertical-align: top;\n",
       "    }\n",
       "\n",
       "    .dataframe thead th {\n",
       "        text-align: right;\n",
       "    }\n",
       "</style>\n",
       "<table border=\"1\" class=\"dataframe\">\n",
       "  <thead>\n",
       "    <tr style=\"text-align: right;\">\n",
       "      <th></th>\n",
       "      <th>movieId</th>\n",
       "      <th>title</th>\n",
       "      <th>genres</th>\n",
       "    </tr>\n",
       "  </thead>\n",
       "  <tbody>\n",
       "    <tr>\n",
       "      <th>12478</th>\n",
       "      <td>58246</td>\n",
       "      <td>Grace Is Gone (2007)</td>\n",
       "      <td>Drama</td>\n",
       "    </tr>\n",
       "    <tr>\n",
       "      <th>19569</th>\n",
       "      <td>96917</td>\n",
       "      <td>House at the End of the Street (2012)</td>\n",
       "      <td>Horror|Thriller</td>\n",
       "    </tr>\n",
       "    <tr>\n",
       "      <th>25872</th>\n",
       "      <td>122851</td>\n",
       "      <td>The Italian Connection (1972)</td>\n",
       "      <td>Crime|Drama</td>\n",
       "    </tr>\n",
       "    <tr>\n",
       "      <th>2442</th>\n",
       "      <td>2527</td>\n",
       "      <td>Westworld (1973)</td>\n",
       "      <td>Action|Sci-Fi|Thriller|Western</td>\n",
       "    </tr>\n",
       "    <tr>\n",
       "      <th>15590</th>\n",
       "      <td>79368</td>\n",
       "      <td>Girasoli, I (Sunflower) (1970)</td>\n",
       "      <td>Drama</td>\n",
       "    </tr>\n",
       "  </tbody>\n",
       "</table>\n",
       "</div>"
      ],
      "text/plain": [
       "       movieId                                  title  \\\n",
       "12478    58246                   Grace Is Gone (2007)   \n",
       "19569    96917  House at the End of the Street (2012)   \n",
       "25872   122851          The Italian Connection (1972)   \n",
       "2442      2527                       Westworld (1973)   \n",
       "15590    79368         Girasoli, I (Sunflower) (1970)   \n",
       "\n",
       "                               genres  \n",
       "12478                           Drama  \n",
       "19569                 Horror|Thriller  \n",
       "25872                     Crime|Drama  \n",
       "2442   Action|Sci-Fi|Thriller|Western  \n",
       "15590                           Drama  "
      ]
     },
     "metadata": {},
     "output_type": "display_data"
    },
    {
     "name": "stdout",
     "output_type": "stream",
     "text": [
      "Displaying 5 of the total 27278data doints\n"
     ]
    },
    {
     "data": {
      "text/html": [
       "<div>\n",
       "<style scoped>\n",
       "    .dataframe tbody tr th:only-of-type {\n",
       "        vertical-align: middle;\n",
       "    }\n",
       "\n",
       "    .dataframe tbody tr th {\n",
       "        vertical-align: top;\n",
       "    }\n",
       "\n",
       "    .dataframe thead th {\n",
       "        text-align: right;\n",
       "    }\n",
       "</style>\n",
       "<table border=\"1\" class=\"dataframe\">\n",
       "  <thead>\n",
       "    <tr style=\"text-align: right;\">\n",
       "      <th></th>\n",
       "      <th>userId</th>\n",
       "      <th>movieId</th>\n",
       "      <th>rating</th>\n",
       "      <th>timestamp</th>\n",
       "    </tr>\n",
       "  </thead>\n",
       "  <tbody>\n",
       "    <tr>\n",
       "      <th>13942079</th>\n",
       "      <td>96330</td>\n",
       "      <td>6385</td>\n",
       "      <td>4.0</td>\n",
       "      <td>1120261045</td>\n",
       "    </tr>\n",
       "    <tr>\n",
       "      <th>5700555</th>\n",
       "      <td>39214</td>\n",
       "      <td>1441</td>\n",
       "      <td>4.0</td>\n",
       "      <td>1364253154</td>\n",
       "    </tr>\n",
       "    <tr>\n",
       "      <th>3951582</th>\n",
       "      <td>26931</td>\n",
       "      <td>265</td>\n",
       "      <td>4.0</td>\n",
       "      <td>974490283</td>\n",
       "    </tr>\n",
       "    <tr>\n",
       "      <th>16441684</th>\n",
       "      <td>113822</td>\n",
       "      <td>1957</td>\n",
       "      <td>2.0</td>\n",
       "      <td>1313073870</td>\n",
       "    </tr>\n",
       "    <tr>\n",
       "      <th>4429701</th>\n",
       "      <td>30256</td>\n",
       "      <td>5669</td>\n",
       "      <td>0.5</td>\n",
       "      <td>1094855522</td>\n",
       "    </tr>\n",
       "  </tbody>\n",
       "</table>\n",
       "</div>"
      ],
      "text/plain": [
       "          userId  movieId  rating   timestamp\n",
       "13942079   96330     6385     4.0  1120261045\n",
       "5700555    39214     1441     4.0  1364253154\n",
       "3951582    26931      265     4.0   974490283\n",
       "16441684  113822     1957     2.0  1313073870\n",
       "4429701    30256     5669     0.5  1094855522"
      ]
     },
     "metadata": {},
     "output_type": "display_data"
    },
    {
     "name": "stdout",
     "output_type": "stream",
     "text": [
      "Displaying 5 of the total 20000263data doints\n"
     ]
    }
   ],
   "source": [
    "# to load the data\n",
    "df_movies = pd.read_csv('./ml-20m/movies.csv')\n",
    "df_ratings = pd.read_csv('./ml-20m/ratings.csv')\n",
    "\n",
    "movieId_to_name = pd.Series(df_movies.title.values,index = df_movies.movieId.values).to_dict()\n",
    "name_to_movieId = pd.Series(df_movies.movieId.values,index = df_movies.title).to_dict()\n",
    "\n",
    "# Randomly display 5 records in the dataframe\n",
    "for df in list((df_movies,df_ratings)):\n",
    "    rand_idx = np.random.choice(len(df),5,replace=False)\n",
    "    display(df.iloc[rand_idx,:])\n",
    "    print(\"Displaying 5 of the total \" + str(len(df)) + \"data doints\")"
   ]
  },
  {
   "cell_type": "code",
   "execution_count": 16,
   "metadata": {},
   "outputs": [
    {
     "data": {
      "image/png": "[encoded data removed]",
      "text/plain": [
       "<Figure size 576x432 with 1 Axes>"
      ]
     },
     "metadata": {
      "needs_background": "light"
     },
     "output_type": "display_data"
    }
   ],
   "source": [
    "# plot to see the feature of data\n",
    "import matplotlib.pyplot as plt\n",
    "%matplotlib inline\n",
    "\n",
    "plt.figure(figsize=(8,6))\n",
    "ax = plt.subplot(111)\n",
    "ax.set_title(\"Distribution of Movie Ratings\",fontsize=16)\n",
    "#ax.spines(\"top\").set_visible(False)\n",
    "#ax.spines(\"right\").set_visible(False)\n",
    "\n",
    "plt.xticks(fontsize=12)\n",
    "plt.yticks(fontsize=12)\n",
    "\n",
    "plt.xlabel(\"Moving Rating\",fontsize=14)\n",
    "plt.ylabel(\"Count\",fontsize=14)\n",
    "\n",
    "plt.hist(df_ratings['rating'],color=\"#3F5F7D\")\n",
    "\n",
    "plt.show()"
   ]
  },
  {
   "cell_type": "code",
   "execution_count": 17,
   "metadata": {},
   "outputs": [],
   "source": [
    "from sklearn.model_selection import train_test_split\n",
    "\n",
    "df_ratings_train,df_ratings_test = train_test_split(df_ratings,\n",
    "                                                    stratify=df_ratings['userId'],\n",
    "                                                    random_state = 15688,\n",
    "                                                    test_size=0.30)"
   ]
  },
  {
   "cell_type": "code",
   "execution_count": 18,
   "metadata": {},
   "outputs": [
    {
     "name": "stdout",
     "output_type": "stream",
     "text": [
      "Number of training data:14000184\n",
      "Number of test data:6000079\n"
     ]
    }
   ],
   "source": [
    "print(\"Number of training data:\" + str(len(df_ratings_train)))\n",
    "print(\"Number of test data:\" + str(len(df_ratings_test)))"
   ]
  },
  {
   "cell_type": "code",
   "execution_count": 22,
   "metadata": {},
   "outputs": [],
   "source": [
    "def rating_splitter(df):\n",
    "    df['liked'] = np.where(df['rating']>=4,1,0)\n",
    "    df['movieId'] = df['movieId'].astype('str')\n",
    "    gp_user_like = df.groupby(['liked','userId'])\n",
    "    \n",
    "    return([gp_user_like.get_group(gp)['movieId'].tolist() for gp in gp_user_like.groups])"
   ]
  },
  {
   "cell_type": "code",
   "execution_count": 23,
   "metadata": {},
   "outputs": [
    {
     "name": "stderr",
     "output_type": "stream",
     "text": [
      "D:\\Anaconda\\lib\\site-packages\\ipykernel_launcher.py:2: SettingWithCopyWarning:\n",
      "\n",
      "\n",
      "A value is trying to be set on a copy of a slice from a DataFrame.\n",
      "Try using .loc[row_indexer,col_indexer] = value instead\n",
      "\n",
      "See the caveats in the documentation: http://pandas.pydata.org/pandas-docs/stable/indexing.html#indexing-view-versus-copy\n",
      "\n",
      "D:\\Anaconda\\lib\\site-packages\\ipykernel_launcher.py:3: SettingWithCopyWarning:\n",
      "\n",
      "\n",
      "A value is trying to be set on a copy of a slice from a DataFrame.\n",
      "Try using .loc[row_indexer,col_indexer] = value instead\n",
      "\n",
      "See the caveats in the documentation: http://pandas.pydata.org/pandas-docs/stable/indexing.html#indexing-view-versus-copy\n",
      "\n"
     ]
    }
   ],
   "source": [
    "#pd.options.mode.chained_assignment = None\n",
    "splitted_movies = rating_splitter(df_ratings_train)"
   ]
  },
  {
   "cell_type": "code",
   "execution_count": 24,
   "metadata": {},
   "outputs": [],
   "source": [
    "# to train the model with Gensim\n",
    "import warnings\n",
    "warnings.filterwarnings(action='ignore',category=UserWarning,module='gensim')\n",
    "\n",
    "import gensim\n",
    "assert gensim.models.word2vec.FAST_VERSION > -1"
   ]
  },
  {
   "cell_type": "code",
   "execution_count": 25,
   "metadata": {},
   "outputs": [],
   "source": [
    "import random\n",
    "\n",
    "for movie_list in splitted_movies:\n",
    "    random.shuffle(movie_list)"
   ]
  },
  {
   "cell_type": "code",
   "execution_count": null,
   "metadata": {},
   "outputs": [],
   "source": [
    "from gensim.models import Word2Vec\n",
    "import datetime\n",
    "start = datetime.datetime.now()\n",
    "\n",
    "model = Word2Vec(sentences = splitted_movies,\n",
    "                iter = 5,\n",
    "                min_count = 10,\n",
    "                size = 200,\n",
    "                workers = 4,\n",
    "                sg = 1,\n",
    "                hs = 0,\n",
    "                negative = 5,\n",
    "                window = 9999999)\n",
    "print(\"Time passed:\" + str(datetime.datetime.now()-strat))\n",
    "model_w2v_sg.save('item2vec_word2vecSg_20190808')\n",
    "del model_w2v_sg"
   ]
  },
  {
   "cell_type": "code",
   "execution_count": null,
   "metadata": {},
   "outputs": [],
   "source": [
    "import warnings\n",
    "warnings.filterwarnings(action='ignore', category=UserWarning, module='gensim')\n",
    "\n",
    "from gensim.models import Word2Vec\n",
    "model = Word2Vec.load('item2vec_20180327')\n",
    "word_vectors = model.wv"
   ]
  },
  {
   "cell_type": "code",
   "execution_count": null,
   "metadata": {},
   "outputs": [],
   "source": [
    "# to make recommendations\n",
    "def refine_search(search_term):\n",
    "    target_url = \"http://www.imdb.com/find?ref_=nv_sr_fn&q=\"+\"+\".join(search_term.split())+\"&s=tt\"\n",
    "    html = requests.get(target_url).content\n",
    "    parsed_html = BeautifulSoup(html,'html.parser')\n",
    "    for tag in parsed_html.find_all('td', class_=\"result_text\"):\n",
    "        search_result = re.findall('fn_tt_tt_1\">(.*)</a>(.*)</td>', str(tag))\n",
    "        if search_result:\n",
    "            if search_result[0][0].split()[0]==\"The\":\n",
    "                str_frac = \" \".join(search_result[0][0].split()[1:])+\", \"+search_result[0][0].split()[0]\n",
    "                refined_name = str_frac+\" \"+search_result[0][1].strip()\n",
    "            else:\n",
    "                refined_name = search_result[0][0]+\" \"+search_result[0][1].strip()\n",
    "    return refined_name"
   ]
  }
 ],
 "metadata": {
  "kernelspec": {
   "display_name": "Python 3",
   "language": "python",
   "name": "python3"
  },
  "language_info": {
   "codemirror_mode": {
    "name": "ipython",
    "version": 3
   },
   "file_extension": ".py",
   "mimetype": "text/x-python",
   "name": "python",
   "nbconvert_exporter": "python",
   "pygments_lexer": "ipython3",
   "version": "3.7.3"
  }
 },
 "nbformat": 4,
 "nbformat_minor": 2
}
