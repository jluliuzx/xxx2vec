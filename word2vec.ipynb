{
 "cells": [
  {
   "cell_type": "code",
   "execution_count": 2,
   "metadata": {},
   "outputs": [],
   "source": [
    "from collections import Counter\n",
    "import numpy as np\n",
    "import tensorflow as tf\n",
    "import random\n",
    "import time"
   ]
  },
  {
   "cell_type": "code",
   "execution_count": 4,
   "metadata": {},
   "outputs": [],
   "source": [
    "# read the data, and there is no punctuation in the data\n",
    "with open('./data/text8') as f:\n",
    "    text = f.read()"
   ]
  },
  {
   "cell_type": "code",
   "execution_count": 5,
   "metadata": {},
   "outputs": [],
   "source": [
    "# data preprocessing function\n",
    "def preprocess(text,freq=5):\n",
    "    # replce the symbol in the text\n",
    "    text = text.lower()\n",
    "    text = text.replace('.','<PERIOD>')\n",
    "    text = text.replace(',','<COMMA>')\n",
    "    text = text.replace('\"','<QUOTATION_MARK>')\n",
    "    text = text.replace(';','<SEMICOLON>')\n",
    "    text = text.replace('!','<EXCLAMATION_MARK>')\n",
    "    text = text.replace('?','<QUESTION_MARK>')\n",
    "    text = text.replace('(','<LEFT_PAREN>')\n",
    "    text = text.replace(')','<RIGHT_PAREN>')\n",
    "    text = text.replace('--','<HYPHENS>')\n",
    "    text = text.replace(':','<COLON>')\n",
    "    # split the text with arbitrary whitespace\n",
    "    words = text.split()\n",
    "    #delete low frequency words\n",
    "    word_counts = Counter(words)    #the output of Counter is a dictionary\n",
    "    trimmed_words = [word for word in words if word_counts[word]>freq]\n",
    "    return trimmed_words"
   ]
  },
  {
   "cell_type": "code",
   "execution_count": 6,
   "metadata": {},
   "outputs": [
    {
     "name": "stdout",
     "output_type": "stream",
     "text": [
      "['anarchism', 'originated', 'as', 'a', 'term', 'of', 'abuse', 'first', 'used', 'against', 'early', 'working', 'class', 'radicals', 'including', 'the', 'diggers', 'of', 'the', 'english']\n"
     ]
    }
   ],
   "source": [
    "# data reprocess\n",
    "words = preprocess(text)\n",
    "print(words[0:20])"
   ]
  },
  {
   "cell_type": "code",
   "execution_count": 7,
   "metadata": {},
   "outputs": [],
   "source": [
    "# contsruct the vocabulary\n",
    "vocab = set(words)\n",
    "vocab_to_int = {w:c for c,w in enumerate(vocab)}\n",
    "int_to_vocab = {c:w for c,w in enumerate(vocab)}"
   ]
  },
  {
   "cell_type": "code",
   "execution_count": 8,
   "metadata": {},
   "outputs": [
    {
     "name": "stdout",
     "output_type": "stream",
     "text": [
      "total words:16680599\n",
      "unique words:63641\n"
     ]
    }
   ],
   "source": [
    "print(\"total words:{}\".format(len(words)))\n",
    "print(\"unique words:{}\".format(len(set(words))))"
   ]
  },
  {
   "cell_type": "code",
   "execution_count": 10,
   "metadata": {},
   "outputs": [],
   "source": [
    "# convert words to int\n",
    "int_words = [vocab_to_int[w] for w in words]"
   ]
  },
  {
   "cell_type": "code",
   "execution_count": 11,
   "metadata": {},
   "outputs": [],
   "source": [
    "# to delete stop words (subsampling of frequent words)\n",
    "t = 1e-5\n",
    "threshold = 0.8\n",
    "int_word_counts = Counter(int_words)\n",
    "total_count = len(int_words)\n",
    "word_freqs = {w:c/total_count for w,c in int_word_counts.items()}\n",
    "prob_drop = {w:1-np.sqrt(t/word_freqs[w]) for w in int_word_counts}\n",
    "train_words = [w for w in int_words if prob_drop[w]<threshold]"
   ]
  },
  {
   "cell_type": "code",
   "execution_count": 12,
   "metadata": {
    "scrolled": true
   },
   "outputs": [
    {
     "name": "stdout",
     "output_type": "stream",
     "text": [
      "6925252\n"
     ]
    }
   ],
   "source": [
    "print(len(train_words))"
   ]
  },
  {
   "cell_type": "code",
   "execution_count": 13,
   "metadata": {},
   "outputs": [],
   "source": [
    "# get the context words of target words\n",
    "def get_targets(words,idx,window_size=5):\n",
    "    # trick to make program concentrate on nearest words\n",
    "    target_window = np.random.randint(1,window_size+1)\n",
    "    start_point = idx - target_window if(idx - target_window)>0 else 0\n",
    "    end_point = idx + target_window\n",
    "    targets = set(words[start_point:idx] + words[idx+1:end_point+1])\n",
    "    return list(targets)"
   ]
  },
  {
   "cell_type": "code",
   "execution_count": 14,
   "metadata": {},
   "outputs": [],
   "source": [
    "# to construct a batch\n",
    "def get_batches(words,batch_size,window_size=5):\n",
    "    n_batches = len(words) // batch_size  # // represents integer division, the result of it is integer\n",
    "    words = words[:n_batches*batch_size]  # get text fits the batch size\n",
    "    for idx in range(0,len(words),batch_size):\n",
    "        x,y = [],[]\n",
    "        batch = words[idx:idx+batch_size]\n",
    "        for i in range(len(batch)):\n",
    "            batch_x = batch[i]\n",
    "            batch_y = get_targets(batch,i,window_size)\n",
    "            x.extend([batch_x]*len(batch_y))   # one word extends to fit the number of target words, is not fixed length\n",
    "            y.extend(batch_y)\n",
    "        yield x,y"
   ]
  },
  {
   "cell_type": "code",
   "execution_count": 15,
   "metadata": {},
   "outputs": [],
   "source": [
    "# to construct the network with Tensorflow\n",
    "train_graph = tf.Graph()\n",
    "with train_graph.as_default():\n",
    "    inputs = tf.placeholder(tf.int32,shape=[None],name='inputs')\n",
    "    labels = tf.placeholder(tf.int32,shape=[None,None],name='labels')"
   ]
  },
  {
   "cell_type": "code",
   "execution_count": 13,
   "metadata": {},
   "outputs": [
    {
     "name": "stdout",
     "output_type": "stream",
     "text": [
      "WARNING:tensorflow:From D:\\Anaconda\\lib\\site-packages\\tensorflow\\python\\framework\\op_def_library.py:263: colocate_with (from tensorflow.python.framework.ops) is deprecated and will be removed in a future version.\n",
      "Instructions for updating:\n",
      "Colocations handled automatically by placer.\n"
     ]
    }
   ],
   "source": [
    "# embedding\n",
    "vocab_size = len(int_to_vocab)\n",
    "embedding_size = 200\n",
    "with train_graph.as_default():\n",
    "    embedding = tf.Variable(tf.random_uniform([vocab_size,embedding_size],-1,1))\n",
    "    embed = tf.nn.embedding_lookup(embedding,inputs)    # to construct relationship between words and embedding vector"
   ]
  },
  {
   "cell_type": "code",
   "execution_count": 14,
   "metadata": {},
   "outputs": [
    {
     "name": "stdout",
     "output_type": "stream",
     "text": [
      "WARNING:tensorflow:From D:\\Anaconda\\lib\\site-packages\\tensorflow\\python\\ops\\nn_impl.py:1444: sparse_to_dense (from tensorflow.python.ops.sparse_ops) is deprecated and will be removed in a future version.\n",
      "Instructions for updating:\n",
      "Create a `tf.sparse.SparseTensor` and use `tf.sparse.to_dense` instead.\n",
      "WARNING:tensorflow:From D:\\Anaconda\\lib\\site-packages\\tensorflow\\python\\ops\\array_grad.py:425: to_int32 (from tensorflow.python.ops.math_ops) is deprecated and will be removed in a future version.\n",
      "Instructions for updating:\n",
      "Use tf.cast instead.\n"
     ]
    }
   ],
   "source": [
    "# negetive sampling\n",
    "n_sampled = 100\n",
    "\n",
    "with train_graph.as_default():\n",
    "    softmax_w = tf.Variable(tf.truncated_normal([vocab_size,embedding_size],stddev=0.1))\n",
    "    softmax_b = tf.Variable(tf.zeros(vocab_size))\n",
    "    \n",
    "    loss = tf.nn.sampled_softmax_loss(softmax_w,softmax_b,labels,embed,n_sampled,vocab_size) # use this function to negetive sampling\n",
    "    \n",
    "    cost = tf.reduce_mean(loss)\n",
    "    optimizer = tf.train.AdamOptimizer().minimize(cost)"
   ]
  },
  {
   "cell_type": "code",
   "execution_count": 15,
   "metadata": {},
   "outputs": [
    {
     "name": "stdout",
     "output_type": "stream",
     "text": [
      "WARNING:tensorflow:From <ipython-input-15-5b94001b5498>:11: calling reduce_sum_v1 (from tensorflow.python.ops.math_ops) with keep_dims is deprecated and will be removed in a future version.\n",
      "Instructions for updating:\n",
      "keep_dims is deprecated, use keepdims instead\n"
     ]
    }
   ],
   "source": [
    "# to validate the result of training\n",
    "with train_graph.as_default():\n",
    "    valid_size = 16\n",
    "    valid_window = 100\n",
    "    # to choose some words randomly\n",
    "    valid_examples = np.array(random.sample(range(valid_window),valid_size//2))\n",
    "    valid_examples = np.append(valid_examples,random.sample(range(1000,1000+valid_window),valid_size//2)) \n",
    "    valid_size = len(valid_examples)\n",
    "    valid_dataset = tf.constant(valid_examples,dtype=tf.int32)\n",
    "    # to normalize the vector\n",
    "    norm = tf.sqrt(tf.reduce_sum(tf.square(embedding),1,keep_dims=True))\n",
    "    normalized_embedding = embedding / norm\n",
    "    # find the vector of words\n",
    "    valid_embedding = tf.nn.embedding_lookup(normalized_embedding,valid_dataset)\n",
    "    # to calculate the cosine similarity\n",
    "    similarity = tf.matmul(valid_embedding,tf.transpose(normalized_embedding))"
   ]
  },
  {
   "cell_type": "code",
   "execution_count": null,
   "metadata": {},
   "outputs": [],
   "source": [
    "# to train the model and find nearest word\n",
    "epochs = 10\n",
    "batch_size = 10\n",
    "window_size = 10\n",
    "\n",
    "with train_graph.as_default():\n",
    "    saver = tf.train.Saver()\n",
    "with tf.Session(graph = train_graph) as sess:\n",
    "    iteration = 1\n",
    "    loss = 0\n",
    "    sess.run(tf.global_variables_initializer())\n",
    "    \n",
    "    for e in range(1,epochs+1):\n",
    "        batches = get_batches(train_words,batch_size,window_size)\n",
    "        start = time.time()\n",
    "        \n",
    "        for x,y in batches:\n",
    "            feed = {inputs:x,labels:np.array(y)[:,None]}\n",
    "            train_loss,_ = sess.run([cost,optimizer],feed_dict=feed)\n",
    "            \n",
    "            loss += train_loss\n",
    "            \n",
    "            if iteration % 100 == 0:\n",
    "                end = time.time()\n",
    "                print(\"Epoch {}/{}\".format(e,epochs),\n",
    "                     \"Iteration:{}\".format(iteration),\n",
    "                      \"Avg.Training loss:{:.4f}\".format(loss/100),\n",
    "                      \"{:.4f} sec/batch\".format((end-start)/100)\n",
    "                     )\n",
    "                loss = 0\n",
    "                start = time.time()\n",
    "            if iteration % 1000 == 0:\n",
    "                sim = similarity.eval()\n",
    "                for i in range(valid_size):\n",
    "                    valid_word = int_to_vocab[valid_examples[i]]\n",
    "                    top_k = 8\n",
    "                    nearest = (-sim[i,:]).argsort()[1:top_k+1]\n",
    "                    log = 'Nearest to [%s]:' % valid_word\n",
    "                    for k in range(top_k):\n",
    "                        close_word = int_to_vocab[nearest[k]]\n",
    "                        log = '%s %s,' % (log,close_word)\n",
    "                    print(log)\n",
    "            iteration += 1\n",
    "    save_path = saver.save(sess,\"checkpoints/text8.ckpt\")\n",
    "    embed_mat = sess.run(normalized_embedding)"
   ]
  },
  {
   "cell_type": "code",
   "execution_count": 37,
   "metadata": {},
   "outputs": [],
   "source": [
    "%matplotlib inline\n",
    "%config InlineBackend.figure_format = 'retina'\n",
    "\n",
    "import matplotlib.pyplot as plt\n",
    "from sklearn.manifold import TSNE"
   ]
  },
  {
   "cell_type": "code",
   "execution_count": null,
   "metadata": {},
   "outputs": [],
   "source": [
    "viz_words = 500\n",
    "tsne = TSNE()\n",
    "embed_tsne = tsne.fit_transform(embed_mat[:viz_words,:])"
   ]
  },
  {
   "cell_type": "code",
   "execution_count": null,
   "metadata": {},
   "outputs": [],
   "source": [
    "fig, ax = plt.subplots(figsize=(14,14))\n",
    "for idx in range(viz_words):\n",
    "    plt.scatter(*embed_tsne[idx,:],color='steelblue')\n",
    "    plt.annotate(int_to_vocab[idx],(embed_tsne[idx,1]),alpha=0.7)"
   ]
  }
 ],
 "metadata": {
  "kernelspec": {
   "display_name": "Python 3",
   "language": "python",
   "name": "python3"
  },
  "language_info": {
   "codemirror_mode": {
    "name": "ipython",
    "version": 3
   },
   "file_extension": ".py",
   "mimetype": "text/x-python",
   "name": "python",
   "nbconvert_exporter": "python",
   "pygments_lexer": "ipython3",
   "version": "3.7.3"
  }
 },
 "nbformat": 4,
 "nbformat_minor": 2
}
